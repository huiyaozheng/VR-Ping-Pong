{
 "cells": [
  {
   "cell_type": "markdown",
   "metadata": {},
   "source": [
    "# Unity ML Agents\n",
    "## Proximal Policy Optimization (PPO)\n",
    "Contains an implementation of PPO as described [here](https://arxiv.org/abs/1707.06347)."
   ]
  },
  {
   "cell_type": "code",
   "execution_count": 1,
   "metadata": {},
   "outputs": [],
   "source": [
    "import numpy as np\n",
    "import os\n",
    "import tensorflow as tf\n",
    "\n",
    "from ppo.history import *\n",
    "from ppo.models import *\n",
    "from ppo.trainer import Trainer\n",
    "from unityagents import *"
   ]
  },
  {
   "cell_type": "markdown",
   "metadata": {},
   "source": [
    "### Hyperparameters"
   ]
  },
  {
   "cell_type": "code",
   "execution_count": 2,
   "metadata": {},
   "outputs": [],
   "source": [
    "### General parameters\n",
    "max_steps = 5e5 # Set maximum number of steps to run environment.\n",
    "run_path = \"ppo\" # The sub-directory name for model and summary statistics\n",
    "load_model = False # Whether to load a saved model.\n",
    "train_model = True # Whether to train the model.\n",
    "summary_freq = 1000 # Frequency at which to save training statistics.\n",
    "save_freq = 50000 # Frequency at which to save model.\n",
    "env_name = \"ShooterTraining\" # Name of the training environment file.\n",
    "curriculum_file = None\n",
    "\n",
    "### Algorithm-specific parameters for tuning\n",
    "gamma = 0.99 # Reward discount rate.\n",
    "lambd = 0.95 # Lambda parameter for GAE.\n",
    "time_horizon = 2048 # How many steps to collect per agent before adding to buffer.\n",
    "beta = 1e-3 # Strength of entropy regularization\n",
    "num_epoch = 5 # Number of gradient descent steps per batch of experiences.\n",
    "num_layers = 2 # Number of hidden layers between state/observation encoding and value/policy layers.\n",
    "epsilon = 0.2 # Acceptable threshold around ratio of old and new policy probabilities.\n",
    "buffer_size = 2000 # How large the experience buffer should be before gradient descent.\n",
    "learning_rate = 1e-4 # Model learning rate.\n",
    "hidden_units = 128 # Number of units in hidden layer.\n",
    "batch_size = 64 # How many experiences per gradient descent update step.\n",
    "normalize = False\n",
    "\n",
    "### Logging dictionary for hyperparameters\n",
    "hyperparameter_dict = {'max_steps':max_steps, 'run_path':run_path, 'env_name':env_name,\n",
    "    'curriculum_file':curriculum_file, 'gamma':gamma, 'lambd':lambd, 'time_horizon':time_horizon,\n",
    "    'beta':beta, 'num_epoch':num_epoch, 'epsilon':epsilon, 'buffe_size':buffer_size,\n",
    "    'leaning_rate':learning_rate, 'hidden_units':hidden_units, 'batch_size':batch_size}"
   ]
  },
  {
   "cell_type": "markdown",
   "metadata": {},
   "source": [
    "### Load the environment"
   ]
  },
  {
   "cell_type": "code",
   "execution_count": null,
   "metadata": {
    "scrolled": true
   },
   "outputs": [
    {
     "name": "stderr",
     "output_type": "stream",
     "text": [
      "INFO:unityagents:\n",
      "'ML_Academy' started successfully!\n"
     ]
    },
    {
     "name": "stdout",
     "output_type": "stream",
     "text": [
      "Unity Academy name: ML_Academy\n",
      "        Number of brains: 1\n",
      "        Reset Parameters :\n",
      "\t\t\n",
      "Unity brain name: ML_Brain\n",
      "        Number of observations (per agent): 0\n",
      "        State space type: continuous\n",
      "        State space size (per agent): 8\n",
      "        Action space type: continuous\n",
      "        Action space size (per agent): 2\n",
      "        Memory space size (per agent): 0\n",
      "        Action descriptions: , \n"
     ]
    }
   ],
   "source": [
    "env = UnityEnvironment(file_name=env_name, curriculum=curriculum_file)\n",
    "print(str(env))\n",
    "brain_name = env.external_brain_names[0]"
   ]
  },
  {
   "cell_type": "markdown",
   "metadata": {},
   "source": [
    "### Train the Agent(s)"
   ]
  },
  {
   "cell_type": "code",
   "execution_count": null,
   "metadata": {
    "scrolled": false
   },
   "outputs": [
    {
     "name": "stdout",
     "output_type": "stream",
     "text": [
      "Step: 1000. Mean Reward: 0.2521951219512195. Std of Reward: 0.5949277971978143.\n",
      "Step: 2000. Mean Reward: 0.2704761904761905. Std of Reward: 0.635238809166444.\n",
      "Step: 3000. Mean Reward: 0.1961904761904762. Std of Reward: 0.514841410537784.\n",
      "Step: 4000. Mean Reward: 0.4073170731707318. Std of Reward: 0.7116076762025954.\n",
      "Step: 5000. Mean Reward: 0.27619047619047615. Std of Reward: 0.587216810698093.\n",
      "Step: 6000. Mean Reward: 0.43309523809523814. Std of Reward: 0.7293261341658643.\n",
      "Step: 7000. Mean Reward: 0.44999999999999996. Std of Reward: 0.8827479268959085.\n",
      "Step: 8000. Mean Reward: 0.3545238095238095. Std of Reward: 0.697274293165392.\n",
      "Step: 9000. Mean Reward: 0.4321428571428571. Std of Reward: 0.8482798721510482.\n",
      "Step: 10000. Mean Reward: 0.5970731707317073. Std of Reward: 0.9646312170409719.\n",
      "Step: 11000. Mean Reward: 0.32476190476190475. Std of Reward: 0.8079846712809244.\n",
      "Step: 12000. Mean Reward: 0.43023809523809525. Std of Reward: 0.7461855000289904.\n",
      "Step: 13000. Mean Reward: 0.3078048780487805. Std of Reward: 0.7565019374989197.\n",
      "Step: 14000. Mean Reward: 0.23190476190476192. Std of Reward: 0.6312392878685172.\n",
      "Step: 15000. Mean Reward: 0.2823809523809524. Std of Reward: 0.6607528517273002.\n",
      "Step: 16000. Mean Reward: 0.16512195121951218. Std of Reward: 0.6542510965394112.\n",
      "Step: 17000. Mean Reward: 0.45071428571428573. Std of Reward: 1.019302732864231.\n",
      "Step: 18000. Mean Reward: 0.07047619047619047. Std of Reward: 0.4495815640864736.\n",
      "Step: 19000. Mean Reward: 0.5002439024390244. Std of Reward: 0.8203434373149739.\n",
      "Step: 20000. Mean Reward: 0.2988095238095238. Std of Reward: 0.6091766589537545.\n",
      "Step: 21000. Mean Reward: 0.31142857142857144. Std of Reward: 0.7751392238343578.\n",
      "Step: 22000. Mean Reward: 0.5741463414634145. Std of Reward: 0.8081685878509843.\n",
      "Step: 23000. Mean Reward: 0.2778571428571428. Std of Reward: 0.634310783502872.\n",
      "Step: 24000. Mean Reward: 0.3047619047619048. Std of Reward: 0.6866143233467703.\n",
      "Step: 25000. Mean Reward: 0.3092682926829269. Std of Reward: 0.5556204628617843.\n",
      "Step: 26000. Mean Reward: 0.3683333333333333. Std of Reward: 0.7238321190082246.\n",
      "Step: 27000. Mean Reward: 0.48976190476190484. Std of Reward: 0.8749761577574506.\n",
      "Step: 28000. Mean Reward: 0.823170731707317. Std of Reward: 0.9365568466186369.\n",
      "Step: 29000. Mean Reward: 0.4085714285714285. Std of Reward: 0.7215181462542364.\n",
      "Step: 30000. Mean Reward: 0.3704761904761905. Std of Reward: 0.7533953378853577.\n",
      "Step: 31000. Mean Reward: 0.8592682926829269. Std of Reward: 0.9595384821625152.\n",
      "Step: 32000. Mean Reward: 0.48071428571428576. Std of Reward: 0.7013639529928974.\n",
      "Step: 33000. Mean Reward: 0.6604761904761905. Std of Reward: 1.0329130152399835.\n",
      "Step: 34000. Mean Reward: 0.38999999999999996. Std of Reward: 0.9468458550211496.\n",
      "Step: 35000. Mean Reward: 0.6371428571428571. Std of Reward: 0.9721656867267944.\n",
      "Step: 36000. Mean Reward: 0.6685714285714286. Std of Reward: 1.0084726108341868.\n",
      "Step: 37000. Mean Reward: 0.5436585365853658. Std of Reward: 0.8246292769350032.\n",
      "Step: 38000. Mean Reward: 0.7247619047619048. Std of Reward: 0.8571220896955059.\n",
      "Step: 39000. Mean Reward: 0.7066666666666667. Std of Reward: 0.9615505005351332.\n",
      "Step: 40000. Mean Reward: 0.7243902439024391. Std of Reward: 1.066068795612173.\n",
      "Step: 41000. Mean Reward: 0.46238095238095245. Std of Reward: 0.8089876375646455.\n",
      "Step: 42000. Mean Reward: 0.5133333333333333. Std of Reward: 0.8563979567452623.\n",
      "Step: 43000. Mean Reward: 0.5292682926829267. Std of Reward: 0.8899174810851775.\n",
      "Step: 44000. Mean Reward: 0.7345238095238095. Std of Reward: 1.0403438130892626.\n",
      "Step: 45000. Mean Reward: 0.5404761904761906. Std of Reward: 1.0371617690347983.\n",
      "Step: 46000. Mean Reward: 0.3260975609756097. Std of Reward: 0.7875924352991163.\n",
      "Step: 47000. Mean Reward: 0.255. Std of Reward: 0.698093492169583.\n",
      "Step: 48000. Mean Reward: 0.5380952380952381. Std of Reward: 0.8546044423208126.\n",
      "Step: 49000. Mean Reward: 0.678780487804878. Std of Reward: 1.0210424971971974.\n",
      "Step: 50000. Mean Reward: 0.4309523809523809. Std of Reward: 0.8696600581721833.\n",
      "Saved Model\n",
      "Step: 51000. Mean Reward: 0.09095238095238094. Std of Reward: 0.5597525368359942.\n",
      "Step: 52000. Mean Reward: 0.19634146341463415. Std of Reward: 0.7519041068126713.\n",
      "Step: 53000. Mean Reward: 0.5159523809523809. Std of Reward: 0.9848690014988688.\n"
     ]
    }
   ],
   "source": [
    "tf.reset_default_graph()\n",
    "\n",
    "if curriculum_file == \"None\":\n",
    "    curriculum_file = None\n",
    "\n",
    "\n",
    "def get_progress():\n",
    "    if curriculum_file is not None:\n",
    "        if env._curriculum.measure_type == \"progress\":\n",
    "            return steps / max_steps\n",
    "        elif env._curriculum.measure_type == \"reward\":\n",
    "            return last_reward\n",
    "        else:\n",
    "            return None\n",
    "    else:\n",
    "        return None\n",
    "\n",
    "# Create the Tensorflow model graph\n",
    "ppo_model = create_agent_model(env, lr=learning_rate,\n",
    "                               h_size=hidden_units, epsilon=epsilon,\n",
    "                               beta=beta, max_step=max_steps, \n",
    "                               normalize=normalize, num_layers=num_layers)\n",
    "\n",
    "is_continuous = (env.brains[brain_name].action_space_type == \"continuous\")\n",
    "use_observations = (env.brains[brain_name].number_observations > 0)\n",
    "use_states = (env.brains[brain_name].state_space_size > 0)\n",
    "\n",
    "model_path = './models/{}'.format(run_path)\n",
    "summary_path = './summaries/{}'.format(run_path)\n",
    "\n",
    "if not os.path.exists(model_path):\n",
    "    os.makedirs(model_path)\n",
    "\n",
    "if not os.path.exists(summary_path):\n",
    "    os.makedirs(summary_path)\n",
    "\n",
    "init = tf.global_variables_initializer()\n",
    "saver = tf.train.Saver()\n",
    "\n",
    "with tf.Session() as sess:\n",
    "    # Instantiate model parameters\n",
    "    if load_model:\n",
    "        print('Loading Model...')\n",
    "        ckpt = tf.train.get_checkpoint_state(model_path)\n",
    "        saver.restore(sess, ckpt.model_checkpoint_path)\n",
    "    else:\n",
    "        sess.run(init)\n",
    "    steps, last_reward = sess.run([ppo_model.global_step, ppo_model.last_reward])    \n",
    "    summary_writer = tf.summary.FileWriter(summary_path)\n",
    "    info = env.reset(train_mode=train_model, progress=get_progress())[brain_name]\n",
    "    trainer = Trainer(ppo_model, sess, info, is_continuous, use_observations, use_states, train_model)\n",
    "    if train_model:\n",
    "        trainer.write_text(summary_writer, 'Hyperparameters', hyperparameter_dict, steps)\n",
    "    while steps <= max_steps:\n",
    "        if env.global_done:\n",
    "            info = env.reset(train_mode=train_model, progress=get_progress())[brain_name]\n",
    "        # Decide and take an action\n",
    "        new_info = trainer.take_action(info, env, brain_name, steps, normalize)\n",
    "        info = new_info\n",
    "        trainer.process_experiences(info, time_horizon, gamma, lambd)\n",
    "        if len(trainer.training_buffer['actions']) > buffer_size and train_model:\n",
    "            # Perform gradient descent with experience buffer\n",
    "            trainer.update_model(batch_size, num_epoch)\n",
    "        if steps % summary_freq == 0 and steps != 0 and train_model:\n",
    "            # Write training statistics to tensorboard.\n",
    "            trainer.write_summary(summary_writer, steps, env._curriculum.lesson_number)\n",
    "        if steps % save_freq == 0 and steps != 0 and train_model:\n",
    "            # Save Tensorflow model\n",
    "            save_model(sess, model_path=model_path, steps=steps, saver=saver)\n",
    "        steps += 1\n",
    "        sess.run(ppo_model.increment_step)\n",
    "        if len(trainer.stats['cumulative_reward']) > 0:\n",
    "            mean_reward = np.mean(trainer.stats['cumulative_reward'])\n",
    "            sess.run(ppo_model.update_reward, feed_dict={ppo_model.new_reward: mean_reward})\n",
    "            last_reward = sess.run(ppo_model.last_reward)\n",
    "    # Final save Tensorflow model\n",
    "    if steps != 0 and train_model:\n",
    "        save_model(sess, model_path=model_path, steps=steps, saver=saver)\n",
    "env.close()\n",
    "export_graph(model_path, env_name)"
   ]
  },
  {
   "cell_type": "markdown",
   "metadata": {},
   "source": [
    "### Export the trained Tensorflow graph\n",
    "Once the model has been trained and saved, we can export it as a .bytes file which Unity can embed."
   ]
  },
  {
   "cell_type": "code",
   "execution_count": null,
   "metadata": {},
   "outputs": [],
   "source": [
    "export_graph(model_path, env_name)"
   ]
  },
  {
   "cell_type": "code",
   "execution_count": null,
   "metadata": {},
   "outputs": [],
   "source": []
  },
  {
   "cell_type": "code",
   "execution_count": null,
   "metadata": {},
   "outputs": [],
   "source": []
  }
 ],
 "metadata": {
  "anaconda-cloud": {},
  "kernelspec": {
   "display_name": "Python 3",
   "language": "python",
   "name": "python3"
  },
  "language_info": {
   "codemirror_mode": {
    "name": "ipython",
    "version": 3
   },
   "file_extension": ".py",
   "mimetype": "text/x-python",
   "name": "python",
   "nbconvert_exporter": "python",
   "pygments_lexer": "ipython3",
   "version": "3.6.4"
  }
 },
 "nbformat": 4,
 "nbformat_minor": 1
}
